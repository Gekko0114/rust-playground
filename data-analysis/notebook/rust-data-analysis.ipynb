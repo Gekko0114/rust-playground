{
 "cells": [
  {
   "cell_type": "code",
   "execution_count": 2,
   "id": "530f0d36",
   "metadata": {},
   "outputs": [],
   "source": [
    ":dep csv = \"1.1.6\""
   ]
  },
  {
   "cell_type": "code",
   "execution_count": 3,
   "id": "711d1586",
   "metadata": {},
   "outputs": [],
   "source": [
    ":dep serde = \"1.0.145\"\n",
    "\n",
    "use serde::{Serialize, Deserialize, Serializer, ser::SerializeStruct, Deserializer};"
   ]
  },
  {
   "cell_type": "code",
   "execution_count": 20,
   "id": "dd9109bc",
   "metadata": {},
   "outputs": [],
   "source": [
    ":dep rand = \"0.8.5\"\n",
    "\n",
    "use rand::thread_rng;\n",
    "use rand::seq::SliceRandom;"
   ]
  },
  {
   "cell_type": "code",
   "execution_count": 4,
   "id": "38b39329",
   "metadata": {},
   "outputs": [],
   "source": [
    "#[derive(Debug)]\n",
    "pub struct Flower {\n",
    "    sepal_length: f32,\n",
    "    sepal_width: f32,\n",
    "    petal_length: f32,\n",
    "    petal_width: f32,\n",
    "    species: String,\n",
    "}"
   ]
  },
  {
   "cell_type": "code",
   "execution_count": 5,
   "id": "fa6f56aa",
   "metadata": {},
   "outputs": [],
   "source": [
    "impl Flower {\n",
    "    pub fn into_feature_vector(&self) -> Vec<f32> {\n",
    "        vec![self.sepal_length, self.sepal_width, self.petal_length, self.petal_width]\n",
    "    }\n",
    "    \n",
    "    pub fn into_labels(&self) -> f32 {\n",
    "        match self.species.as_str() {\n",
    "            \"sentosa\" => 0.,\n",
    "            \"versicolor\" => 1.,\n",
    "            \"virginica\" => 2.,\n",
    "            l => panic!(\"Not able to parse the target. Some other target got passed. {:?}\", l),\n",
    "        }\n",
    "    }\n",
    "    \n",
    "    pub fn into_int_labels(&self) -> u64 {\n",
    "        match self.species.as_str() {\n",
    "            \"setosa\" => 0,\n",
    "            \"versicolor\" => 1,\n",
    "            \"virginica\" => 2,\n",
    "            l => panic!(\"Not able to parse the target. Some other target got passed. {:?}\", l),\n",
    "        }\n",
    "    }\n",
    "}"
   ]
  },
  {
   "cell_type": "code",
   "execution_count": 22,
   "id": "4fa382da",
   "metadata": {},
   "outputs": [
    {
     "data": {
      "text/plain": [
       "()"
      ]
     },
     "execution_count": 22,
     "metadata": {},
     "output_type": "execute_result"
    }
   ],
   "source": [
    "    let mut rdr = csv::Reader::from_path(\"../dataset/iris-dataset.csv\")?;\n",
    "    let mut records = Vec::new();\n",
    "    for result in rdr.records() {\n",
    "        let record: csv::StringRecord = result?;\n",
    "        records.push(record);\n",
    "    }"
   ]
  },
  {
   "cell_type": "code",
   "execution_count": 23,
   "id": "496008c1",
   "metadata": {},
   "outputs": [
    {
     "data": {
      "text/plain": [
       "()"
      ]
     },
     "execution_count": 23,
     "metadata": {},
     "output_type": "execute_result"
    }
   ],
   "source": [
    "let mut data: Vec<Flower> = Vec::new();\n",
    "\n",
    "for record in records {\n",
    "    let sepal_length: f32 = record[0].parse().unwrap();\n",
    "    let sepal_width: f32 = record[1].parse().unwrap();\n",
    "    let petal_length: f32 = record[2].parse().unwrap();\n",
    "    let petal_width: f32 = record[3].parse().unwrap();        \n",
    "    let species: String = record[4].parse().unwrap();    \n",
    "    let flower = Flower {\n",
    "    sepal_length: sepal_length,\n",
    "    sepal_width: sepal_width,\n",
    "    petal_length: petal_length,\n",
    "    petal_width: petal_width,\n",
    "    species: species,\n",
    "    };\n",
    "    data.push(flower);\n",
    "}"
   ]
  },
  {
   "cell_type": "code",
   "execution_count": 24,
   "id": "95e97764",
   "metadata": {},
   "outputs": [],
   "source": [
    "data.shuffle(&mut thread_rng());"
   ]
  },
  {
   "cell_type": "code",
   "execution_count": 26,
   "id": "4261c199",
   "metadata": {},
   "outputs": [],
   "source": [
    "/*\n",
    "やりたいこと\n",
    "データの可視化\n",
    "scatter plot\n",
    "平均値・最大値の計算など\n",
    "group by\n",
    "violin plot\n",
    "*/"
   ]
  },
  {
   "cell_type": "code",
   "execution_count": null,
   "id": "06832939",
   "metadata": {},
   "outputs": [],
   "source": []
  }
 ],
 "metadata": {
  "kernelspec": {
   "display_name": "Rust",
   "language": "rust",
   "name": "rust"
  },
  "language_info": {
   "codemirror_mode": "rust",
   "file_extension": ".rs",
   "mimetype": "text/rust",
   "name": "Rust",
   "pygment_lexer": "rust",
   "version": ""
  }
 },
 "nbformat": 4,
 "nbformat_minor": 5
}
