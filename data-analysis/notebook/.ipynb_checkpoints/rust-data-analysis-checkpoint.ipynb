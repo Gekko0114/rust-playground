{
 "cells": [
  {
   "cell_type": "code",
   "execution_count": 2,
   "id": "530f0d36",
   "metadata": {},
   "outputs": [],
   "source": [
    ":dep csv = \"1.1.6\""
   ]
  },
  {
   "cell_type": "code",
   "execution_count": 3,
   "id": "38b39329",
   "metadata": {},
   "outputs": [],
   "source": [
    "pub struct Flower {\n",
    "    sepal_length: f32,\n",
    "    sepal_width: f32,\n",
    "    petal_length: f32,\n",
    "    petal_width: f32,\n",
    "    species: String,\n",
    "}"
   ]
  },
  {
   "cell_type": "code",
   "execution_count": 4,
   "id": "fa6f56aa",
   "metadata": {},
   "outputs": [],
   "source": [
    "impl Flower {\n",
    "    pub fn into_feature_vector(&self) -> Vec<f32> {\n",
    "        vec![self.sepal_length, self.sepal_width, self.petal_length, self.petal_width]\n",
    "    }\n",
    "    \n",
    "    pub fn into_labels(&self) -> f32 {\n",
    "        match self.species.as_str() {\n",
    "            \"sentosa\" => 0.,\n",
    "            \"versicolor\" => 1.,\n",
    "            \"virginica\" => 2.,\n",
    "            l => panic!(\"Not able to parse the target. Some other target got passed. {:?}\", l),\n",
    "        }\n",
    "    }\n",
    "    \n",
    "    pub fn into_int_labels(&self) -> u64 {\n",
    "        match self.species.as_str() {\n",
    "            \"sentosa\" => 0,\n",
    "            \"versicolor\" => 1,\n",
    "            \"virginica\" => 2,\n",
    "            l => panic!(\"Not able to parse the target. Some other target got passed. {:?}\", l),\n",
    "        }\n",
    "    }\n",
    "}"
   ]
  },
  {
   "cell_type": "code",
   "execution_count": 5,
   "id": "90cc2ea0",
   "metadata": {},
   "outputs": [
    {
     "name": "stdout",
     "output_type": "stream",
     "text": [
      "StringRecord([\"5.1\", \"3.5\", \"1.4\", \"0.2\", \"setosa\"])\n",
      "StringRecord([\"4.9\", \"3\", \"1.4\", \"0.2\", \"setosa\"])\n",
      "StringRecord([\"4.7\", \"3.2\", \"1.3\", \"0.2\", \"setosa\"])\n",
      "StringRecord([\"4.6\", \"3.1\", \"1.5\", \"0.2\", \"setosa\"])\n",
      "StringRecord([\"5\", \"3.6\", \"1.4\", \"0.2\", \"setosa\"])\n",
      "StringRecord([\"5.4\", \"3.9\", \"1.7\", \"0.4\", \"setosa\"])\n",
      "StringRecord([\"4.6\", \"3.4\", \"1.4\", \"0.3\", \"setosa\"])\n",
      "StringRecord([\"5\", \"3.4\", \"1.5\", \"0.2\", \"setosa\"])\n",
      "StringRecord([\"4.4\", \"2.9\", \"1.4\", \"0.2\", \"setosa\"])\n",
      "StringRecord([\"4.9\", \"3.1\", \"1.5\", \"0.1\", \"setosa\"])\n",
      "StringRecord([\"5.4\", \"3.7\", \"1.5\", \"0.2\", \"setosa\"])\n",
      "StringRecord([\"4.8\", \"3.4\", \"1.6\", \"0.2\", \"setosa\"])\n",
      "StringRecord([\"4.8\", \"3\", \"1.4\", \"0.1\", \"setosa\"])\n",
      "StringRecord([\"4.3\", \"3\", \"1.1\", \"0.1\", \"setosa\"])\n",
      "StringRecord([\"5.8\", \"4\", \"1.2\", \"0.2\", \"setosa\"])\n",
      "StringRecord([\"5.7\", \"4.4\", \"1.5\", \"0.4\", \"setosa\"])\n",
      "StringRecord([\"5.4\", \"3.9\", \"1.3\", \"0.4\", \"setosa\"])\n",
      "StringRecord([\"5.1\", \"3.5\", \"1.4\", \"0.3\", \"setosa\"])\n",
      "StringRecord([\"5.7\", \"3.8\", \"1.7\", \"0.3\", \"setosa\"])\n",
      "StringRecord([\"5.1\", \"3.8\", \"1.5\", \"0.3\", \"setosa\"])\n",
      "StringRecord([\"5.4\", \"3.4\", \"1.7\", \"0.2\", \"setosa\"])\n",
      "StringRecord([\"5.1\", \"3.7\", \"1.5\", \"0.4\", \"setosa\"])\n",
      "StringRecord([\"4.6\", \"3.6\", \"1\", \"0.2\", \"setosa\"])\n",
      "StringRecord([\"5.1\", \"3.3\", \"1.7\", \"0.5\", \"setosa\"])\n",
      "StringRecord([\"4.8\", \"3.4\", \"1.9\", \"0.2\", \"setosa\"])\n",
      "StringRecord([\"5\", \"3\", \"1.6\", \"0.2\", \"setosa\"])\n",
      "StringRecord([\"5\", \"3.4\", \"1.6\", \"0.4\", \"setosa\"])\n",
      "StringRecord([\"5.2\", \"3.5\", \"1.5\", \"0.2\", \"setosa\"])\n",
      "StringRecord([\"5.2\", \"3.4\", \"1.4\", \"0.2\", \"setosa\"])\n",
      "StringRecord([\"4.7\", \"3.2\", \"1.6\", \"0.2\", \"setosa\"])\n",
      "StringRecord([\"4.8\", \"3.1\", \"1.6\", \"0.2\", \"setosa\"])\n",
      "StringRecord([\"5.4\", \"3.4\", \"1.5\", \"0.4\", \"setosa\"])\n",
      "StringRecord([\"5.2\", \"4.1\", \"1.5\", \"0.1\", \"setosa\"])\n",
      "StringRecord([\"5.5\", \"4.2\", \"1.4\", \"0.2\", \"setosa\"])\n",
      "StringRecord([\"4.9\", \"3.1\", \"1.5\", \"0.1\", \"setosa\"])\n",
      "StringRecord([\"5\", \"3.2\", \"1.2\", \"0.2\", \"setosa\"])\n",
      "StringRecord([\"5.5\", \"3.5\", \"1.3\", \"0.2\", \"setosa\"])\n",
      "StringRecord([\"4.9\", \"3.1\", \"1.5\", \"0.1\", \"setosa\"])\n",
      "StringRecord([\"4.4\", \"3\", \"1.3\", \"0.2\", \"setosa\"])\n",
      "StringRecord([\"5.1\", \"3.4\", \"1.5\", \"0.2\", \"setosa\"])\n",
      "StringRecord([\"5\", \"3.5\", \"1.3\", \"0.3\", \"setosa\"])\n",
      "StringRecord([\"4.5\", \"2.3\", \"1.3\", \"0.3\", \"setosa\"])\n",
      "StringRecord([\"4.4\", \"3.2\", \"1.3\", \"0.2\", \"setosa\"])\n",
      "StringRecord([\"5\", \"3.5\", \"1.6\", \"0.6\", \"setosa\"])\n",
      "StringRecord([\"5.1\", \"3.8\", \"1.9\", \"0.4\", \"setosa\"])\n",
      "StringRecord([\"4.8\", \"3\", \"1.4\", \"0.3\", \"setosa\"])\n",
      "StringRecord([\"5.1\", \"3.8\", \"1.6\", \"0.2\", \"setosa\"])\n",
      "StringRecord([\"4.6\", \"3.2\", \"1.4\", \"0.2\", \"setosa\"])\n",
      "StringRecord([\"5.3\", \"3.7\", \"1.5\", \"0.2\", \"setosa\"])\n",
      "StringRecord([\"5\", \"3.3\", \"1.4\", \"0.2\", \"setosa\"])\n",
      "StringRecord([\"7\", \"3.2\", \"4.7\", \"1.4\", \"versicolor\"])\n",
      "StringRecord([\"6.4\", \"3.2\", \"4.5\", \"1.5\", \"versicolor\"])\n",
      "StringRecord([\"6.9\", \"3.1\", \"4.9\", \"1.5\", \"versicolor\"])\n",
      "StringRecord([\"5.5\", \"2.3\", \"4\", \"1.3\", \"versicolor\"])\n",
      "StringRecord([\"6.5\", \"2.8\", \"4.6\", \"1.5\", \"versicolor\"])\n",
      "StringRecord([\"5.7\", \"2.8\", \"4.5\", \"1.3\", \"versicolor\"])\n",
      "StringRecord([\"6.3\", \"3.3\", \"4.7\", \"1.6\", \"versicolor\"])\n",
      "StringRecord([\"4.9\", \"2.4\", \"3.3\", \"1\", \"versicolor\"])\n",
      "StringRecord([\"6.6\", \"2.9\", \"4.6\", \"1.3\", \"versicolor\"])\n",
      "StringRecord([\"5.2\", \"2.7\", \"3.9\", \"1.4\", \"versicolor\"])\n",
      "StringRecord([\"5\", \"2\", \"3.5\", \"1\", \"versicolor\"])\n",
      "StringRecord([\"5.9\", \"3\", \"4.2\", \"1.5\", \"versicolor\"])\n",
      "StringRecord([\"6\", \"2.2\", \"4\", \"1\", \"versicolor\"])\n",
      "StringRecord([\"6.1\", \"2.9\", \"4.7\", \"1.4\", \"versicolor\"])\n",
      "StringRecord([\"5.6\", \"2.9\", \"3.6\", \"1.3\", \"versicolor\"])\n",
      "StringRecord([\"6.7\", \"3.1\", \"4.4\", \"1.4\", \"versicolor\"])\n",
      "StringRecord([\"5.6\", \"3\", \"4.5\", \"1.5\", \"versicolor\"])\n",
      "StringRecord([\"5.8\", \"2.7\", \"4.1\", \"1\", \"versicolor\"])\n",
      "StringRecord([\"6.2\", \"2.2\", \"4.5\", \"1.5\", \"versicolor\"])\n",
      "StringRecord([\"5.6\", \"2.5\", \"3.9\", \"1.1\", \"versicolor\"])\n",
      "StringRecord([\"5.9\", \"3.2\", \"4.8\", \"1.8\", \"versicolor\"])\n",
      "StringRecord([\"6.1\", \"2.8\", \"4\", \"1.3\", \"versicolor\"])\n",
      "StringRecord([\"6.3\", \"2.5\", \"4.9\", \"1.5\", \"versicolor\"])\n",
      "StringRecord([\"6.1\", \"2.8\", \"4.7\", \"1.2\", \"versicolor\"])\n",
      "StringRecord([\"6.4\", \"2.9\", \"4.3\", \"1.3\", \"versicolor\"])\n",
      "StringRecord([\"6.6\", \"3\", \"4.4\", \"1.4\", \"versicolor\"])\n",
      "StringRecord([\"6.8\", \"2.8\", \"4.8\", \"1.4\", \"versicolor\"])\n",
      "StringRecord([\"6.7\", \"3\", \"5\", \"1.7\", \"versicolor\"])\n",
      "StringRecord([\"6\", \"2.9\", \"4.5\", \"1.5\", \"versicolor\"])\n",
      "StringRecord([\"5.7\", \"2.6\", \"3.5\", \"1\", \"versicolor\"])\n",
      "StringRecord([\"5.5\", \"2.4\", \"3.8\", \"1.1\", \"versicolor\"])\n",
      "StringRecord([\"5.5\", \"2.4\", \"3.7\", \"1\", \"versicolor\"])\n",
      "StringRecord([\"5.8\", \"2.7\", \"3.9\", \"1.2\", \"versicolor\"])\n",
      "StringRecord([\"6\", \"2.7\", \"5.1\", \"1.6\", \"versicolor\"])\n",
      "StringRecord([\"5.4\", \"3\", \"4.5\", \"1.5\", \"versicolor\"])\n",
      "StringRecord([\"6.7\", \"3.1\", \"4.7\", \"1.5\", \"versicolor\"])\n",
      "StringRecord([\"6\", \"3.4\", \"4.5\", \"1.6\", \"versicolor\"])\n",
      "StringRecord([\"6.3\", \"2.3\", \"4.4\", \"1.3\", \"versicolor\"])\n",
      "StringRecord([\"5.6\", \"3\", \"4.1\", \"1.3\", \"versicolor\"])\n",
      "StringRecord([\"5.5\", \"2.5\", \"4\", \"1.3\", \"versicolor\"])\n",
      "StringRecord([\"5.5\", \"2.6\", \"4.4\", \"1.2\", \"versicolor\"])\n",
      "StringRecord([\"6.1\", \"3\", \"4.6\", \"1.4\", \"versicolor\"])\n",
      "StringRecord([\"5.8\", \"2.6\", \"4\", \"1.2\", \"versicolor\"])\n",
      "StringRecord([\"5\", \"2.3\", \"3.3\", \"1\", \"versicolor\"])\n",
      "StringRecord([\"5.6\", \"2.7\", \"4.2\", \"1.3\", \"versicolor\"])\n",
      "StringRecord([\"5.7\", \"3\", \"4.2\", \"1.2\", \"versicolor\"])\n",
      "StringRecord([\"5.7\", \"2.9\", \"4.2\", \"1.3\", \"versicolor\"])\n",
      "StringRecord([\"6.2\", \"2.9\", \"4.3\", \"1.3\", \"versicolor\"])\n",
      "StringRecord([\"5.1\", \"2.5\", \"3\", \"1.1\", \"versicolor\"])\n",
      "StringRecord([\"5.7\", \"2.8\", \"4.1\", \"1.3\", \"versicolor\"])\n",
      "StringRecord([\"6.3\", \"3.3\", \"6\", \"2.5\", \"virginica\"])\n",
      "StringRecord([\"5.8\", \"2.7\", \"5.1\", \"1.9\", \"virginica\"])\n",
      "StringRecord([\"7.1\", \"3\", \"5.9\", \"2.1\", \"virginica\"])\n",
      "StringRecord([\"6.3\", \"2.9\", \"5.6\", \"1.8\", \"virginica\"])\n",
      "StringRecord([\"6.5\", \"3\", \"5.8\", \"2.2\", \"virginica\"])\n",
      "StringRecord([\"7.6\", \"3\", \"6.6\", \"2.1\", \"virginica\"])\n",
      "StringRecord([\"4.9\", \"2.5\", \"4.5\", \"1.7\", \"virginica\"])\n",
      "StringRecord([\"7.3\", \"2.9\", \"6.3\", \"1.8\", \"virginica\"])\n",
      "StringRecord([\"6.7\", \"2.5\", \"5.8\", \"1.8\", \"virginica\"])\n",
      "StringRecord([\"7.2\", \"3.6\", \"6.1\", \"2.5\", \"virginica\"])\n",
      "StringRecord([\"6.5\", \"3.2\", \"5.1\", \"2\", \"virginica\"])\n",
      "StringRecord([\"6.4\", \"2.7\", \"5.3\", \"1.9\", \"virginica\"])\n",
      "StringRecord([\"6.8\", \"3\", \"5.5\", \"2.1\", \"virginica\"])\n",
      "StringRecord([\"5.7\", \"2.5\", \"5\", \"2\", \"virginica\"])\n",
      "StringRecord([\"5.8\", \"2.8\", \"5.1\", \"2.4\", \"virginica\"])\n",
      "StringRecord([\"6.4\", \"3.2\", \"5.3\", \"2.3\", \"virginica\"])\n",
      "StringRecord([\"6.5\", \"3\", \"5.5\", \"1.8\", \"virginica\"])\n",
      "StringRecord([\"7.7\", \"3.8\", \"6.7\", \"2.2\", \"virginica\"])\n",
      "StringRecord([\"7.7\", \"2.6\", \"6.9\", \"2.3\", \"virginica\"])\n",
      "StringRecord([\"6\", \"2.2\", \"5\", \"1.5\", \"virginica\"])\n",
      "StringRecord([\"6.9\", \"3.2\", \"5.7\", \"2.3\", \"virginica\"])\n",
      "StringRecord([\"5.6\", \"2.8\", \"4.9\", \"2\", \"virginica\"])\n",
      "StringRecord([\"7.7\", \"2.8\", \"6.7\", \"2\", \"virginica\"])\n",
      "StringRecord([\"6.3\", \"2.7\", \"4.9\", \"1.8\", \"virginica\"])\n",
      "StringRecord([\"6.7\", \"3.3\", \"5.7\", \"2.1\", \"virginica\"])\n",
      "StringRecord([\"7.2\", \"3.2\", \"6\", \"1.8\", \"virginica\"])\n",
      "StringRecord([\"6.2\", \"2.8\", \"4.8\", \"1.8\", \"virginica\"])\n",
      "StringRecord([\"6.1\", \"3\", \"4.9\", \"1.8\", \"virginica\"])\n",
      "StringRecord([\"6.4\", \"2.8\", \"5.6\", \"2.1\", \"virginica\"])\n",
      "StringRecord([\"7.2\", \"3\", \"5.8\", \"1.6\", \"virginica\"])\n",
      "StringRecord([\"7.4\", \"2.8\", \"6.1\", \"1.9\", \"virginica\"])\n",
      "StringRecord([\"7.9\", \"3.8\", \"6.4\", \"2\", \"virginica\"])\n",
      "StringRecord([\"6.4\", \"2.8\", \"5.6\", \"2.2\", \"virginica\"])\n",
      "StringRecord([\"6.3\", \"2.8\", \"5.1\", \"1.5\", \"virginica\"])\n",
      "StringRecord([\"6.1\", \"2.6\", \"5.6\", \"1.4\", \"virginica\"])\n",
      "StringRecord([\"7.7\", \"3\", \"6.1\", \"2.3\", \"virginica\"])\n",
      "StringRecord([\"6.3\", \"3.4\", \"5.6\", \"2.4\", \"virginica\"])\n",
      "StringRecord([\"6.4\", \"3.1\", \"5.5\", \"1.8\", \"virginica\"])\n",
      "StringRecord([\"6\", \"3\", \"4.8\", \"1.8\", \"virginica\"])\n",
      "StringRecord([\"6.9\", \"3.1\", \"5.4\", \"2.1\", \"virginica\"])\n",
      "StringRecord([\"6.7\", \"3.1\", \"5.6\", \"2.4\", \"virginica\"])\n",
      "StringRecord([\"6.9\", \"3.1\", \"5.1\", \"2.3\", \"virginica\"])\n",
      "StringRecord([\"5.8\", \"2.7\", \"5.1\", \"1.9\", \"virginica\"])\n",
      "StringRecord([\"6.8\", \"3.2\", \"5.9\", \"2.3\", \"virginica\"])\n",
      "StringRecord([\"6.7\", \"3.3\", \"5.7\", \"2.5\", \"virginica\"])\n",
      "StringRecord([\"6.7\", \"3\", \"5.2\", \"2.3\", \"virginica\"])\n",
      "StringRecord([\"6.3\", \"2.5\", \"5\", \"1.9\", \"virginica\"])\n",
      "StringRecord([\"6.5\", \"3\", \"5.2\", \"2\", \"virginica\"])\n",
      "StringRecord([\"6.2\", \"3.4\", \"5.4\", \"2.3\", \"virginica\"])\n"
     ]
    },
    {
     "data": {
      "text/plain": [
       "()"
      ]
     },
     "execution_count": 5,
     "metadata": {},
     "output_type": "execute_result"
    },
    {
     "name": "stdout",
     "output_type": "stream",
     "text": [
      "StringRecord([\"5.9\", \"3\", \"5.1\", \"1.8\", \"virginica\"])\n"
     ]
    }
   ],
   "source": [
    "    let mut rdr = csv::Reader::from_path(\"../dataset/iris-dataset.csv\")?;\n",
    "    for result in rdr.records() {\n",
    "        let record = result?;\n",
    "        println!(\"{:?}\", record);\n",
    "    }"
   ]
  },
  {
   "cell_type": "code",
   "execution_count": 8,
   "id": "4fa382da",
   "metadata": {},
   "outputs": [
    {
     "data": {
      "text/plain": [
       "()"
      ]
     },
     "execution_count": 8,
     "metadata": {},
     "output_type": "execute_result"
    }
   ],
   "source": [
    "    let mut rdr = csv::Reader::from_path(\"../dataset/iris-dataset.csv\")?;\n",
    "    let mut data = Vec::new();\n",
    "    for result in rdr.records() {\n",
    "        let record: csv::StringRecord = result?;\n",
    "        data.push(record);\n",
    "    }"
   ]
  },
  {
   "cell_type": "code",
   "execution_count": 10,
   "id": "78d056d4",
   "metadata": {},
   "outputs": [
    {
     "data": {
      "text/plain": [
       "StringRecord([\"5.1\", \"3.5\", \"1.4\", \"0.2\", \"setosa\"])"
      ]
     },
     "execution_count": 10,
     "metadata": {},
     "output_type": "execute_result"
    }
   ],
   "source": [
    "data[0]"
   ]
  },
  {
   "cell_type": "code",
   "execution_count": null,
   "id": "56bd856f",
   "metadata": {},
   "outputs": [],
   "source": [
    "println!('aa')"
   ]
  },
  {
   "cell_type": "code",
   "execution_count": 18,
   "id": "6a9c7fe2",
   "metadata": {},
   "outputs": [],
   "source": [
    "let mut vec = Vec::new();\n",
    "vec.push(1);\n",
    "vec.push(2);"
   ]
  },
  {
   "cell_type": "code",
   "execution_count": 19,
   "id": "e4ba72c7",
   "metadata": {},
   "outputs": [
    {
     "data": {
      "text/plain": [
       "[1, 2]"
      ]
     },
     "execution_count": 19,
     "metadata": {},
     "output_type": "execute_result"
    }
   ],
   "source": [
    "vec"
   ]
  },
  {
   "cell_type": "code",
   "execution_count": 21,
   "id": "51a21ea6",
   "metadata": {},
   "outputs": [
    {
     "ename": "Error",
     "evalue": "format argument must be a string literal",
     "output_type": "error",
     "traceback": [
      "\u001b[31mError:\u001b[0m format argument must be a string literal",
      "   \u001b[38;5;246m╭\u001b[0m\u001b[38;5;246m─\u001b[0m\u001b[38;5;246m[\u001b[0mcommand_21:1:1\u001b[38;5;246m]\u001b[0m",
      "   \u001b[38;5;246m│\u001b[0m",
      " \u001b[38;5;246m3 │\u001b[0m \u001b[38;5;249m \u001b[0m\u001b[38;5;249m \u001b[0m\u001b[38;5;249m \u001b[0m\u001b[38;5;249m \u001b[0m\u001b[38;5;249m \u001b[0m\u001b[38;5;249m \u001b[0m\u001b[38;5;249m \u001b[0m\u001b[38;5;249m \u001b[0m\u001b[38;5;249mp\u001b[0m\u001b[38;5;249mr\u001b[0m\u001b[38;5;249mi\u001b[0m\u001b[38;5;249mn\u001b[0m\u001b[38;5;249mt\u001b[0m\u001b[38;5;249ml\u001b[0m\u001b[38;5;249mn\u001b[0m\u001b[38;5;249m!\u001b[0m\u001b[38;5;249m(\u001b[0m\u001b[38;5;54mr\u001b[0m\u001b[38;5;249m)\u001b[0m",
      " \u001b[38;5;246m  ·\u001b[0m                  \u001b[38;5;54m┬\u001b[0m  ",
      " \u001b[38;5;246m  ·\u001b[0m                  \u001b[38;5;54m╰\u001b[0m\u001b[38;5;54m─\u001b[0m\u001b[38;5;54m─\u001b[0m error: format argument must be a string literal",
      " \u001b[38;5;246m  ·\u001b[0m                  \u001b[38;5;100m│\u001b[0m  ",
      " \u001b[38;5;246m  ·\u001b[0m                  \u001b[38;5;100m╰\u001b[0m\u001b[38;5;100m─\u001b[0m\u001b[38;5;100m─\u001b[0m help: you might be missing a string literal to format with: `\"{}\", `",
      "\u001b[38;5;246m───╯\u001b[0m"
     ]
    },
    {
     "ename": "Error",
     "evalue": "cannot find value `rdr` in this scope",
     "output_type": "error",
     "traceback": [
      "\u001b[31m[E0425] Error:\u001b[0m cannot find value `rdr` in this scope",
      "   \u001b[38;5;246m╭\u001b[0m\u001b[38;5;246m─\u001b[0m\u001b[38;5;246m[\u001b[0mcommand_21:1:1\u001b[38;5;246m]\u001b[0m",
      "   \u001b[38;5;246m│\u001b[0m",
      " \u001b[38;5;246m1 │\u001b[0m \u001b[38;5;249m \u001b[0m\u001b[38;5;249m \u001b[0m\u001b[38;5;249m \u001b[0m\u001b[38;5;249m \u001b[0m\u001b[38;5;249mf\u001b[0m\u001b[38;5;249mo\u001b[0m\u001b[38;5;249mr\u001b[0m\u001b[38;5;249m \u001b[0m\u001b[38;5;249mr\u001b[0m\u001b[38;5;249me\u001b[0m\u001b[38;5;249ms\u001b[0m\u001b[38;5;249mu\u001b[0m\u001b[38;5;249ml\u001b[0m\u001b[38;5;249mt\u001b[0m\u001b[38;5;249m \u001b[0m\u001b[38;5;249mi\u001b[0m\u001b[38;5;249mn\u001b[0m\u001b[38;5;249m \u001b[0m\u001b[38;5;54mr\u001b[0m\u001b[38;5;54md\u001b[0m\u001b[38;5;54mr\u001b[0m\u001b[38;5;249m.\u001b[0m\u001b[38;5;249md\u001b[0m\u001b[38;5;249me\u001b[0m\u001b[38;5;249ms\u001b[0m\u001b[38;5;249me\u001b[0m\u001b[38;5;249mr\u001b[0m\u001b[38;5;249mi\u001b[0m\u001b[38;5;249ma\u001b[0m\u001b[38;5;249ml\u001b[0m\u001b[38;5;249mi\u001b[0m\u001b[38;5;249mz\u001b[0m\u001b[38;5;249me\u001b[0m\u001b[38;5;249m(\u001b[0m\u001b[38;5;249m)\u001b[0m\u001b[38;5;249m \u001b[0m\u001b[38;5;249m{\u001b[0m",
      " \u001b[38;5;246m  ·\u001b[0m                   \u001b[38;5;54m─\u001b[0m\u001b[38;5;54m┬\u001b[0m\u001b[38;5;54m─\u001b[0m  ",
      " \u001b[38;5;246m  ·\u001b[0m                    \u001b[38;5;54m╰\u001b[0m\u001b[38;5;54m─\u001b[0m\u001b[38;5;54m─\u001b[0m\u001b[38;5;54m─\u001b[0m not found in this scope",
      "\u001b[38;5;246m───╯\u001b[0m"
     ]
    },
    {
     "ename": "Error",
     "evalue": "cannot find type `Flower` in this scope",
     "output_type": "error",
     "traceback": [
      "\u001b[31m[E0412] Error:\u001b[0m cannot find type `Flower` in this scope",
      "   \u001b[38;5;246m╭\u001b[0m\u001b[38;5;246m─\u001b[0m\u001b[38;5;246m[\u001b[0mcommand_21:1:1\u001b[38;5;246m]\u001b[0m",
      "   \u001b[38;5;246m│\u001b[0m",
      " \u001b[38;5;246m2 │\u001b[0m \u001b[38;5;249m \u001b[0m\u001b[38;5;249m \u001b[0m\u001b[38;5;249m \u001b[0m\u001b[38;5;249m \u001b[0m\u001b[38;5;249m \u001b[0m\u001b[38;5;249m \u001b[0m\u001b[38;5;249m \u001b[0m\u001b[38;5;249m \u001b[0m\u001b[38;5;249ml\u001b[0m\u001b[38;5;249me\u001b[0m\u001b[38;5;249mt\u001b[0m\u001b[38;5;249m \u001b[0m\u001b[38;5;249mr\u001b[0m\u001b[38;5;249m:\u001b[0m\u001b[38;5;249m \u001b[0m\u001b[38;5;54mF\u001b[0m\u001b[38;5;54ml\u001b[0m\u001b[38;5;54mo\u001b[0m\u001b[38;5;54mw\u001b[0m\u001b[38;5;54me\u001b[0m\u001b[38;5;54mr\u001b[0m\u001b[38;5;249m \u001b[0m\u001b[38;5;249m=\u001b[0m\u001b[38;5;249m \u001b[0m\u001b[38;5;249mr\u001b[0m\u001b[38;5;249me\u001b[0m\u001b[38;5;249ms\u001b[0m\u001b[38;5;249mu\u001b[0m\u001b[38;5;249ml\u001b[0m\u001b[38;5;249mt\u001b[0m\u001b[38;5;249m?\u001b[0m\u001b[38;5;249m;\u001b[0m",
      " \u001b[38;5;246m  ·\u001b[0m                \u001b[38;5;54m─\u001b[0m\u001b[38;5;54m─\u001b[0m\u001b[38;5;54m─\u001b[0m\u001b[38;5;54m┬\u001b[0m\u001b[38;5;54m─\u001b[0m\u001b[38;5;54m─\u001b[0m  ",
      " \u001b[38;5;246m  ·\u001b[0m                   \u001b[38;5;54m╰\u001b[0m\u001b[38;5;54m─\u001b[0m\u001b[38;5;54m─\u001b[0m\u001b[38;5;54m─\u001b[0m\u001b[38;5;54m─\u001b[0m not found in this scope",
      "\u001b[38;5;246m───╯\u001b[0m"
     ]
    }
   ],
   "source": [
    "    for result in rdr.deserialize() {\n",
    "        let r: Flower = result?;\n",
    "        println!(r)\n",
    "    }"
   ]
  },
  {
   "cell_type": "code",
   "execution_count": null,
   "id": "95e97764",
   "metadata": {},
   "outputs": [],
   "source": []
  },
  {
   "cell_type": "code",
   "execution_count": null,
   "id": "4261c199",
   "metadata": {},
   "outputs": [],
   "source": []
  }
 ],
 "metadata": {
  "kernelspec": {
   "display_name": "Rust",
   "language": "rust",
   "name": "rust"
  },
  "language_info": {
   "codemirror_mode": "rust",
   "file_extension": ".rs",
   "mimetype": "text/rust",
   "name": "Rust",
   "pygment_lexer": "rust",
   "version": ""
  }
 },
 "nbformat": 4,
 "nbformat_minor": 5
}
